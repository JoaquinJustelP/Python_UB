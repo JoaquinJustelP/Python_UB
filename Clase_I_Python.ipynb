{
  "nbformat": 4,
  "nbformat_minor": 0,
  "metadata": {
    "colab": {
      "provenance": [],
      "authorship_tag": "ABX9TyPNsnh0U/gB0IE5GQqH7Zj0",
      "include_colab_link": true
    },
    "kernelspec": {
      "name": "python3",
      "display_name": "Python 3"
    },
    "language_info": {
      "name": "python"
    }
  },
  "cells": [
    {
      "cell_type": "markdown",
      "metadata": {
        "id": "view-in-github",
        "colab_type": "text"
      },
      "source": [
        "<a href=\"https://colab.research.google.com/github/JoaquinJustelP/Python_UB/blob/main/Clase_I_Python.ipynb\" target=\"_parent\"><img src=\"https://colab.research.google.com/assets/colab-badge.svg\" alt=\"Open In Colab\"/></a>"
      ]
    },
    {
      "cell_type": "markdown",
      "source": [
        "# Introducción a Python"
      ],
      "metadata": {
        "id": "s-lN9NOwsi45"
      }
    },
    {
      "cell_type": "markdown",
      "source": [
        "## ¿Qué es?\n",
        "\n",
        "Python es un lenguaje de programación de alto nivel, interpretado, dinámico y multiparadigma.\n",
        "\n",
        "Creado en 1991 pero con popularidad creciente en los últimos años gracias a su legibilidad, sintaxis clara y gran cantidad de bibiliotecas y frameworks disponibles.\n",
        "\n",
        "Se utiliza en una amplia variedad de aplicaciones como análisis de datos, inteligencia artificial, aprendizaje automático, desarrollo web y otras áreas de la informática.\n",
        "\n",
        "Documentación : https://docs.python.org/3/"
      ],
      "metadata": {
        "id": "Vwd7q-ous3E2"
      }
    },
    {
      "cell_type": "markdown",
      "source": [
        "### Dinamic Typing\n",
        "\n",
        "Python usa escritura dinámica, lo que significa que puede reasignar variables a diferentes tipos de datos. Esto hace que Python sea muy flexible en la asignación de tipos de datos; se diferencia de otros idiomas que se escriben estáticamente."
      ],
      "metadata": {
        "id": "hCMZyF0Tr2pE"
      }
    },
    {
      "cell_type": "code",
      "source": [
        "mis_perros = 2\n",
        "perros"
      ],
      "metadata": {
        "id": "gqzsfdj0sDVy"
      },
      "execution_count": null,
      "outputs": []
    },
    {
      "cell_type": "code",
      "source": [
        "mis_perros=['Thor','Loki']\n",
        "mis_perros"
      ],
      "metadata": {
        "id": "0_grP68RsHzN"
      },
      "execution_count": null,
      "outputs": []
    },
    {
      "cell_type": "markdown",
      "source": [
        "**Pros y contras**\n",
        "\n",
        "Pros:\n",
        "\n",
        "\n",
        "*   Fácil de trabajar con ello\n",
        "*   Menor tiempo de desarrollo\n",
        "\n",
        "Contras:\n",
        "\n",
        "\n",
        "*   Pueden salir errores inesperados\n",
        "*   Hay que tener en cuenta el tipo (`type()`)\n",
        "\n",
        "\n",
        "\n"
      ],
      "metadata": {
        "id": "7wykKdwssdaa"
      }
    },
    {
      "cell_type": "markdown",
      "metadata": {
        "id": "N0sZKCLbYx3A"
      },
      "source": [
        "## Types\n",
        "\n",
        "Para saber el tipo de variable podemos usar la función `type()`\n"
      ]
    },
    {
      "cell_type": "code",
      "execution_count": null,
      "metadata": {
        "id": "qxMd3hVUYx3A"
      },
      "outputs": [],
      "source": [
        "type(1)"
      ]
    },
    {
      "cell_type": "code",
      "execution_count": null,
      "metadata": {
        "id": "VVa7vfofYx3B"
      },
      "outputs": [],
      "source": [
        "type(3.1415)"
      ]
    },
    {
      "cell_type": "code",
      "execution_count": null,
      "metadata": {
        "id": "XQnwywKSYx3B"
      },
      "outputs": [],
      "source": [
        "type('whatIam')"
      ]
    },
    {
      "cell_type": "code",
      "execution_count": null,
      "metadata": {
        "id": "vbtS2PYiYx3B"
      },
      "outputs": [],
      "source": [
        "var = 0\n",
        "type(var)"
      ]
    },
    {
      "cell_type": "markdown",
      "metadata": {
        "id": "HQe8_gRHO3iO"
      },
      "source": [
        "##  Assignment statements\n",
        "Una asignación crea una nueva variable y le da un valor:"
      ]
    },
    {
      "cell_type": "code",
      "execution_count": null,
      "metadata": {
        "id": "St6SmIeiO3iP"
      },
      "outputs": [],
      "source": [
        "a = 'hola'\n",
        "a2 = 'hola de nuevo'\n",
        "a_b = '...?'\n",
        "n = 7"
      ]
    },
    {
      "cell_type": "code",
      "execution_count": null,
      "metadata": {
        "id": "4XAH_tWMO3iP"
      },
      "outputs": [],
      "source": [
        "print(a_b)"
      ]
    },
    {
      "cell_type": "code",
      "source": [
        "a"
      ],
      "metadata": {
        "id": "miOZ2z7SciZo"
      },
      "execution_count": null,
      "outputs": []
    },
    {
      "cell_type": "markdown",
      "source": [
        "Hay ciertos nombres para asignar a las variables que se deben evitar porque podemos obtener errores."
      ],
      "metadata": {
        "id": "JjVWIi6ScjVH"
      }
    },
    {
      "cell_type": "code",
      "source": [
        "class= '¿Funcionará?'"
      ],
      "metadata": {
        "id": "9IUPjjIycpv4"
      },
      "execution_count": null,
      "outputs": []
    },
    {
      "cell_type": "markdown",
      "source": [
        "Resulta que `clase`es un \"keyword\" de Python. El intérprete usa palabras clave para reconocer la estructura del programa y no se pueden usar como nombres de variables. Algunos ejemplos de palabras clave de Python son:\n",
        "\n",
        "```python\n",
        "\n",
        "False    class      finally    is         return\n",
        "None     continue   for        lambda     try\n",
        "True     def        from       nonlocal   while\n",
        "and      del        global     not        with\n",
        "as       elif       if         or         yield\n",
        "assert   else       import     pass\n",
        "break    except     in         raise\n",
        "```"
      ],
      "metadata": {
        "id": "0ene8wHYct9Q"
      }
    },
    {
      "cell_type": "markdown",
      "source": [
        "## Operadores\n",
        "\n",
        "La siguiente tabla resume los operadores aritméticos en Python y cómo funcionan:\n",
        "\n",
        "+ Suma: **`+`**\n",
        "+ Resta: **`-`**\n",
        "+ Multiplicación: **`*`**\n",
        "+ Division (siempre devuelve `float`): **`/`**\n",
        "+ División de piso o \"floor division\" (siempre devuelve `int`): **`//`**\n",
        "+ Exponenciación: `**`\n",
        "+ Módulo (devuelve el resto de una división): **`%`**\n",
        "\n",
        "Cuando se usan con tipos numéricos, se comportan como operaciones matemáticas normales."
      ],
      "metadata": {
        "id": "x9_nG9_zdNCP"
      }
    },
    {
      "cell_type": "code",
      "source": [
        "2+2"
      ],
      "metadata": {
        "id": "swuTxtANfjfH"
      },
      "execution_count": null,
      "outputs": []
    },
    {
      "cell_type": "code",
      "source": [
        "4-3"
      ],
      "metadata": {
        "id": "LTOd6cI8fkym"
      },
      "execution_count": null,
      "outputs": []
    },
    {
      "cell_type": "code",
      "source": [
        "3*3"
      ],
      "metadata": {
        "id": "5Scm1MgPfl9W"
      },
      "execution_count": null,
      "outputs": []
    },
    {
      "cell_type": "code",
      "source": [
        "6/4"
      ],
      "metadata": {
        "id": "i4R6cWzyfm-O"
      },
      "execution_count": null,
      "outputs": []
    },
    {
      "cell_type": "code",
      "source": [
        "7//6"
      ],
      "metadata": {
        "id": "ZN1M507JfRj_"
      },
      "execution_count": null,
      "outputs": []
    },
    {
      "cell_type": "code",
      "source": [
        "2**2"
      ],
      "metadata": {
        "id": "JwdRhQ6PfqRv"
      },
      "execution_count": null,
      "outputs": []
    },
    {
      "cell_type": "code",
      "source": [
        "print(25 % 5)\n",
        "print(12 % 5)"
      ],
      "metadata": {
        "id": "LUC4_NjgfdF2"
      },
      "execution_count": null,
      "outputs": []
    },
    {
      "cell_type": "markdown",
      "source": [
        "### Operadores de incremento y decrecimiento\n",
        "\n",
        "Operadores de la forma `+=`, `-=`, `*=`...\n"
      ],
      "metadata": {
        "id": "sfyzcimNgT2I"
      }
    },
    {
      "cell_type": "markdown",
      "source": [
        "Teniendo una variable `a`, queremos sumarle 25. Podríamos hacerlo de la siguiente manera:\n",
        "\n",
        "\n"
      ],
      "metadata": {
        "id": "cnv5wsXHgczv"
      }
    },
    {
      "cell_type": "code",
      "source": [
        "a= 10\n",
        "a= a+25"
      ],
      "metadata": {
        "id": "DZZwFU_Nhtdm"
      },
      "execution_count": null,
      "outputs": []
    },
    {
      "cell_type": "markdown",
      "source": [
        "Sin embargo, podemos usar este tipo de operadores de la siguiente manera:"
      ],
      "metadata": {
        "id": "pMoMNeZPhwVt"
      }
    },
    {
      "cell_type": "code",
      "source": [
        "a= 10\n",
        "a+=25"
      ],
      "metadata": {
        "id": "i6lzXv2_hplu"
      },
      "execution_count": null,
      "outputs": []
    },
    {
      "cell_type": "markdown",
      "source": [
        "Es especialmente útil cuando queremos hacerlo de manera sucesiva ya que tiene la ventaja de que actualiza la variable en la memoria sin crear nuevos objetos."
      ],
      "metadata": {
        "id": "swtrI1D3hpSo"
      }
    },
    {
      "cell_type": "markdown",
      "source": [
        "## Operaciones de cadena (String operations)\n",
        "\n",
        "Con las cadenas no podemos realizar operaciones matemáticas, pero sí podemos usar ciertos operadores. \n",
        "\n",
        "Por ejemplo:\n",
        "\n",
        "`+` realiza la concatenación de cadenas.\n",
        "\n",
        "`*` repite la cadena.\n"
      ],
      "metadata": {
        "id": "P1LYT4S-iZTO"
      }
    },
    {
      "cell_type": "code",
      "source": [
        "'Buenas'+'tardes'"
      ],
      "metadata": {
        "colab": {
          "base_uri": "https://localhost:8080/",
          "height": 36
        },
        "id": "8ixAkk2Dlofd",
        "outputId": "fa258dd1-965a-46cf-9ca1-3b0243072d0b"
      },
      "execution_count": null,
      "outputs": [
        {
          "output_type": "execute_result",
          "data": {
            "text/plain": [
              "'Buenastardes'"
            ],
            "application/vnd.google.colaboratory.intrinsic+json": {
              "type": "string"
            }
          },
          "metadata": {},
          "execution_count": 5
        }
      ]
    },
    {
      "cell_type": "code",
      "source": [
        "'Buenas '+'tardes'"
      ],
      "metadata": {
        "colab": {
          "base_uri": "https://localhost:8080/",
          "height": 36
        },
        "id": "IhISdNDMmnMM",
        "outputId": "48f3dab2-0a88-4a75-eadd-17bc8c417978"
      },
      "execution_count": null,
      "outputs": [
        {
          "output_type": "execute_result",
          "data": {
            "text/plain": [
              "'Buenas tardes'"
            ],
            "application/vnd.google.colaboratory.intrinsic+json": {
              "type": "string"
            }
          },
          "metadata": {},
          "execution_count": 4
        }
      ]
    },
    {
      "cell_type": "code",
      "source": [
        "'Repíteme'*2"
      ],
      "metadata": {
        "colab": {
          "base_uri": "https://localhost:8080/",
          "height": 36
        },
        "id": "ZbXcw6lQluP1",
        "outputId": "1b90e0ae-4847-4498-c63f-c9294d212abb"
      },
      "execution_count": null,
      "outputs": [
        {
          "output_type": "execute_result",
          "data": {
            "text/plain": [
              "'RepítemeRepíteme'"
            ],
            "application/vnd.google.colaboratory.intrinsic+json": {
              "type": "string"
            }
          },
          "metadata": {},
          "execution_count": 2
        }
      ]
    },
    {
      "cell_type": "markdown",
      "source": [
        "Usando `for` podemos acceder a todos los elementos de la cadena:"
      ],
      "metadata": {
        "id": "QH9op2nlpa50"
      }
    },
    {
      "cell_type": "code",
      "source": [
        "for letra in 'Buenas tardes':\n",
        "    print(letra)"
      ],
      "metadata": {
        "id": "gQCIQoSrpQy8"
      },
      "execution_count": null,
      "outputs": []
    },
    {
      "cell_type": "code",
      "source": [
        "s= 'Buenas tardes'\n",
        "len(s) # para conocer la longitud de la cadena"
      ],
      "metadata": {
        "id": "-Vyij3kgBacN"
      },
      "execution_count": null,
      "outputs": []
    },
    {
      "cell_type": "markdown",
      "source": [
        "Las cadenas tienen muchos métodos:"
      ],
      "metadata": {
        "id": "EDcM-WhuRSOl"
      }
    },
    {
      "cell_type": "code",
      "source": [
        "s.capitalize()"
      ],
      "metadata": {
        "id": "ev9wrpfzR4pq"
      },
      "execution_count": null,
      "outputs": []
    },
    {
      "cell_type": "code",
      "source": [
        "s.lower()"
      ],
      "metadata": {
        "id": "2YizK9ePR7cS"
      },
      "execution_count": null,
      "outputs": []
    },
    {
      "cell_type": "code",
      "source": [
        "s.endswith('a todos')"
      ],
      "metadata": {
        "id": "UIRBciOaR9Y1"
      },
      "execution_count": null,
      "outputs": []
    },
    {
      "cell_type": "markdown",
      "source": [
        "### String formating\n",
        "\n",
        "- `f` strings: `f'sum result: {1+2}'`\n",
        "- `{}` y `.format()`\n",
        "- `%` placeholders. (_old way_) "
      ],
      "metadata": {
        "id": "3Lc7IgX_SJz9"
      }
    },
    {
      "cell_type": "code",
      "source": [
        "a = 12\n",
        "print(f'El resultado es: {a}')"
      ],
      "metadata": {
        "id": "x1iQu2riS-TX"
      },
      "execution_count": null,
      "outputs": []
    },
    {
      "cell_type": "code",
      "source": [
        "'Introduce algo aquí {}'.format('hola')"
      ],
      "metadata": {
        "id": "ajgIKOGrTB97"
      },
      "execution_count": null,
      "outputs": []
    },
    {
      "cell_type": "code",
      "source": [
        "'Introduce algo aquí %s' % '!'"
      ],
      "metadata": {
        "id": "xsh1KMM2TEt6"
      },
      "execution_count": null,
      "outputs": []
    }
  ]
}