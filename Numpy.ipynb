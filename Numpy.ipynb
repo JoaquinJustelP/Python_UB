{
  "cells": [
    {
      "cell_type": "markdown",
      "metadata": {
        "id": "view-in-github",
        "colab_type": "text"
      },
      "source": [
        "<a href=\"https://colab.research.google.com/github/JoaquinJustelP/Python_UB/blob/main/Numpy.ipynb\" target=\"_parent\"><img src=\"https://colab.research.google.com/assets/colab-badge.svg\" alt=\"Open In Colab\"/></a>"
      ]
    },
    {
      "cell_type": "markdown",
      "metadata": {
        "id": "mWDA895rpJhd"
      },
      "source": [
        "# NumPy\n"
      ]
    },
    {
      "cell_type": "markdown",
      "source": [
        "Autor: Biel Stela"
      ],
      "metadata": {
        "id": "VU2_k8qXORKi"
      }
    },
    {
      "cell_type": "code",
      "execution_count": null,
      "metadata": {
        "id": "78KPmVQIpJhj"
      },
      "outputs": [],
      "source": [
        "import numpy as np"
      ]
    },
    {
      "cell_type": "markdown",
      "source": [
        "NumPy es el paquete fundamental necesario para la computación científica con Python. \n",
        "\n",
        "Proporciona:\n",
        "\n",
        "+ Un poderoso **objeto array N-dimensional** `ndarray` \n",
        "+ Funciones sofisticadas (broadcasting) \n",
        "+ Herramientas para integrar código C/C++ y Fortran \n",
        "+ Útiles capacidades de álgebra lineal, transformada de Fourier y números aleatorios"
      ],
      "metadata": {
        "id": "jKGj-bb9Dwd6"
      }
    },
    {
      "cell_type": "markdown",
      "metadata": {
        "id": "Pg0r4S_upJhk"
      },
      "source": [
        "+ **Operaciones vetorizadas**"
      ]
    },
    {
      "cell_type": "code",
      "execution_count": 2,
      "metadata": {
        "scrolled": true,
        "id": "czq0GWBMpJhk",
        "colab": {
          "base_uri": "https://localhost:8080/"
        },
        "outputId": "f31dbc1b-8911-4920-de91-39a46f8d5b11"
      },
      "outputs": [
        {
          "output_type": "execute_result",
          "data": {
            "text/plain": [
              "[0, 1, 4, 9, 16, 25, 36, 49, 64, 81]"
            ]
          },
          "metadata": {},
          "execution_count": 2
        }
      ],
      "source": [
        "[x**2 for x in range(10)]"
      ]
    },
    {
      "cell_type": "code",
      "execution_count": 3,
      "metadata": {
        "id": "i2fTyO-qpJhl",
        "colab": {
          "base_uri": "https://localhost:8080/"
        },
        "outputId": "975d4e0a-43bb-4d0b-fb6d-300504433c83"
      },
      "outputs": [
        {
          "output_type": "execute_result",
          "data": {
            "text/plain": [
              "array([ 0,  1,  4,  9, 16, 25, 36, 49, 64, 81])"
            ]
          },
          "metadata": {},
          "execution_count": 3
        }
      ],
      "source": [
        "np.arange(10)**2"
      ]
    },
    {
      "cell_type": "markdown",
      "metadata": {
        "id": "FEkSgZGopJhl"
      },
      "source": [
        "+ Velocidad:"
      ]
    },
    {
      "cell_type": "code",
      "execution_count": null,
      "metadata": {
        "id": "lTGl6KwApJhl"
      },
      "outputs": [],
      "source": [
        "%timeit [x**2 for x in list(range(int(10e6)))]"
      ]
    },
    {
      "cell_type": "code",
      "execution_count": null,
      "metadata": {
        "id": "bTbrgoW6pJhm"
      },
      "outputs": [],
      "source": [
        "%timeit np.arange(10e6)**2"
      ]
    },
    {
      "cell_type": "markdown",
      "source": [
        "Esto es gracias a su estructura de datos."
      ],
      "metadata": {
        "id": "msEDJmhZEpcM"
      }
    },
    {
      "cell_type": "markdown",
      "metadata": {
        "id": "0NxWBBEipJhn"
      },
      "source": [
        "## El `ndarray` \n",
        "\n",
        "El objeto principal de NumPy es el array multidimensional homogéneo. Es una tabla de elementos (normalmente números), todos del mismo tipo, indexados por una tupla de enteros positivos. En NumPy las dimensiones se llaman ejes (_axes_).\n",
        "\n"
      ]
    },
    {
      "cell_type": "code",
      "execution_count": null,
      "metadata": {
        "id": "3PvsUY00pJho"
      },
      "outputs": [],
      "source": [
        "import numpy as np"
      ]
    },
    {
      "cell_type": "markdown",
      "metadata": {
        "id": "d2spLYWqpJho"
      },
      "source": [
        "### Rutinas de creación de arrays"
      ]
    },
    {
      "cell_type": "code",
      "execution_count": 4,
      "metadata": {
        "scrolled": true,
        "id": "GkeUJNnnpJho",
        "colab": {
          "base_uri": "https://localhost:8080/"
        },
        "outputId": "c27aec13-adb0-436a-e186-8d74cd076a01"
      },
      "outputs": [
        {
          "output_type": "execute_result",
          "data": {
            "text/plain": [
              "array([1, 2, 3, 4, 5, 6])"
            ]
          },
          "metadata": {},
          "execution_count": 4
        }
      ],
      "source": [
        "# de un objeto python (ejemplo: lista)\n",
        "a = np.array([1,2,3,4,5,6])\n",
        "a"
      ]
    },
    {
      "cell_type": "code",
      "execution_count": 5,
      "metadata": {
        "scrolled": true,
        "id": "MrAvIl9NpJho",
        "colab": {
          "base_uri": "https://localhost:8080/"
        },
        "outputId": "0d49c900-c7b1-4bde-c7f2-dcbad29b9bed"
      },
      "outputs": [
        {
          "output_type": "execute_result",
          "data": {
            "text/plain": [
              "numpy.ndarray"
            ]
          },
          "metadata": {},
          "execution_count": 5
        }
      ],
      "source": [
        "type(a)"
      ]
    },
    {
      "cell_type": "markdown",
      "metadata": {
        "id": "t8jPN9YJpJhp"
      },
      "source": [
        "O usando marcadores de posición Numpy:"
      ]
    },
    {
      "cell_type": "code",
      "execution_count": 6,
      "metadata": {
        "id": "DAEqiQudpJhp",
        "colab": {
          "base_uri": "https://localhost:8080/"
        },
        "outputId": "e379c3dd-9311-447b-f42c-1548bd8efecd"
      },
      "outputs": [
        {
          "output_type": "execute_result",
          "data": {
            "text/plain": [
              "array([0., 0., 0., 0., 0.])"
            ]
          },
          "metadata": {},
          "execution_count": 6
        }
      ],
      "source": [
        "np.zeros(5)"
      ]
    },
    {
      "cell_type": "code",
      "execution_count": 7,
      "metadata": {
        "id": "ll86gbd-pJhp",
        "colab": {
          "base_uri": "https://localhost:8080/"
        },
        "outputId": "29654306-d1d7-4e2c-bc08-b30337f02fa5"
      },
      "outputs": [
        {
          "output_type": "execute_result",
          "data": {
            "text/plain": [
              "array([1., 1., 1., 1., 1.])"
            ]
          },
          "metadata": {},
          "execution_count": 7
        }
      ],
      "source": [
        "np.ones(5)"
      ]
    },
    {
      "cell_type": "code",
      "execution_count": 14,
      "metadata": {
        "id": "-rdI_0SgpJhp",
        "colab": {
          "base_uri": "https://localhost:8080/"
        },
        "outputId": "532ae0a8-bee5-483d-e54e-b736c7343640"
      },
      "outputs": [
        {
          "output_type": "execute_result",
          "data": {
            "text/plain": [
              "array([                  0,                   0,                   0,\n",
              "                         0,                   0, 7363723160739394616,\n",
              "       7292503613655561261, 3258694506344441188, 3847822516561392944,\n",
              "                 892679990])"
            ]
          },
          "metadata": {},
          "execution_count": 14
        }
      ],
      "source": [
        "np.empty(10, dtype=int)  #  Array de datos no inicializados (arbitrarios) de la forma dada, dtype"
      ]
    },
    {
      "cell_type": "markdown",
      "metadata": {
        "id": "g138lAwbpJhp"
      },
      "source": [
        "O con `range`"
      ]
    },
    {
      "cell_type": "code",
      "execution_count": 8,
      "metadata": {
        "scrolled": true,
        "id": "lHNcBpNRpJhq",
        "colab": {
          "base_uri": "https://localhost:8080/"
        },
        "outputId": "b4f9d032-b755-4d32-c88b-3a93bf33eab1"
      },
      "outputs": [
        {
          "output_type": "execute_result",
          "data": {
            "text/plain": [
              "array([0., 1., 2., 3., 4., 5., 6., 7., 8., 9.])"
            ]
          },
          "metadata": {},
          "execution_count": 8
        }
      ],
      "source": [
        "np.arange(10, dtype=np.float64)"
      ]
    },
    {
      "cell_type": "markdown",
      "metadata": {
        "id": "5WoUp0cQpJhq"
      },
      "source": [
        "También hacer matrices de listas de listas:"
      ]
    },
    {
      "cell_type": "code",
      "execution_count": null,
      "metadata": {
        "id": "pRr8X7V-pJhq"
      },
      "outputs": [],
      "source": [
        "a = np.array([[1,2,3,4],[5,6,7,8]])\n",
        "a"
      ]
    },
    {
      "cell_type": "markdown",
      "metadata": {
        "id": "vbg94kcTpJhq"
      },
      "source": [
        "\n",
        "O inicializar arrays con la forma de otro array:"
      ]
    },
    {
      "cell_type": "code",
      "execution_count": null,
      "metadata": {
        "id": "SlsV3J6cpJhq"
      },
      "outputs": [],
      "source": [
        "np.zeros_like(a)  "
      ]
    },
    {
      "cell_type": "markdown",
      "metadata": {
        "id": "Ve5zBpq7pJhq"
      },
      "source": [
        "O matrices útiles como la identidad:"
      ]
    },
    {
      "cell_type": "code",
      "execution_count": 16,
      "metadata": {
        "id": "Y72J9VX7pJhq",
        "colab": {
          "base_uri": "https://localhost:8080/"
        },
        "outputId": "33f782f3-b552-4445-e529-d1fc3d992359"
      },
      "outputs": [
        {
          "output_type": "execute_result",
          "data": {
            "text/plain": [
              "array([[1., 0., 0.],\n",
              "       [0., 1., 0.],\n",
              "       [0., 0., 1.]])"
            ]
          },
          "metadata": {},
          "execution_count": 16
        }
      ],
      "source": [
        "np.eye(3)"
      ]
    },
    {
      "cell_type": "code",
      "execution_count": 15,
      "metadata": {
        "id": "6P1BtZmDpJhq",
        "colab": {
          "base_uri": "https://localhost:8080/"
        },
        "outputId": "2b33236b-b56a-4488-d8f5-35c6759b5c3d"
      },
      "outputs": [
        {
          "output_type": "execute_result",
          "data": {
            "text/plain": [
              "array([[1., 0., 0.],\n",
              "       [0., 1., 0.],\n",
              "       [0., 0., 1.]])"
            ]
          },
          "metadata": {},
          "execution_count": 15
        }
      ],
      "source": [
        "np.identity(3)"
      ]
    },
    {
      "cell_type": "markdown",
      "metadata": {
        "id": "09ll6WRkpJhr"
      },
      "source": [
        "### Atributos del `ndarray`"
      ]
    },
    {
      "cell_type": "code",
      "execution_count": 17,
      "metadata": {
        "id": "DC7fFt89pJhr",
        "colab": {
          "base_uri": "https://localhost:8080/"
        },
        "outputId": "73012b87-8340-4735-c1e5-b08a5146055d"
      },
      "outputs": [
        {
          "output_type": "execute_result",
          "data": {
            "text/plain": [
              "(6,)"
            ]
          },
          "metadata": {},
          "execution_count": 17
        }
      ],
      "source": [
        "# devuelve la forma de la matriz (filas, columnas)\n",
        "# si la matriz es 1d devuelve (n,)\n",
        "a.shape"
      ]
    },
    {
      "cell_type": "code",
      "execution_count": null,
      "metadata": {
        "id": "NYkox-wRpJhr"
      },
      "outputs": [],
      "source": [
        "# devuelve el tipo de datos\n",
        "a.dtype"
      ]
    },
    {
      "cell_type": "code",
      "execution_count": null,
      "metadata": {
        "id": "hXrSyo7bpJhr"
      },
      "outputs": [],
      "source": [
        "# número de dimensiones\n",
        "a.ndim"
      ]
    },
    {
      "cell_type": "markdown",
      "metadata": {
        "id": "N-cQJ2ENpJhr"
      },
      "source": [
        "Veamos un array de dos dimensiones\n",
        "\n"
      ]
    },
    {
      "cell_type": "code",
      "execution_count": null,
      "metadata": {
        "id": "LXoPMXTGpJhr"
      },
      "outputs": [],
      "source": [
        "aa = np.arange(12).reshape(3,4)\n",
        "aa"
      ]
    },
    {
      "cell_type": "code",
      "execution_count": null,
      "metadata": {
        "id": "ABmBC4SWpJhs"
      },
      "outputs": [],
      "source": [
        "aa.shape"
      ]
    },
    {
      "cell_type": "code",
      "execution_count": null,
      "metadata": {
        "id": "0bGI6PhTpJhs"
      },
      "outputs": [],
      "source": [
        "aa.ndim"
      ]
    },
    {
      "cell_type": "markdown",
      "metadata": {
        "id": "NzTj0hZvpJhs"
      },
      "source": [
        "## Funciones Numpy \n",
        "\n",
        "Una [función universal](https://docs.scipy.org/doc/numpy/reference/ufuncs.html) (o ufunc para abreviar) es una función que opera en ndarrays elemento por elemento, que admite la transmisión de matrices, la conversión de tipos y varias otras características estándar.\n",
        "\n",
        "```python\n",
        "np.sum()\n",
        "np.min()\n",
        "np.max()\n",
        "np.cumsum()\n",
        "np.mean()\n",
        "np.median()\n",
        "np.corrcoef()\n",
        "np.std()\n",
        "...\n",
        "```\n",
        "\n",
        "Normalmente todas esas funciones están disponibles como método del objeto `ndarray`."
      ]
    },
    {
      "cell_type": "code",
      "execution_count": null,
      "metadata": {
        "id": "Vh4kpefwpJht"
      },
      "outputs": [],
      "source": [
        "a = np.arange(10)"
      ]
    },
    {
      "cell_type": "code",
      "execution_count": null,
      "metadata": {
        "id": "wtIqpTFppJht"
      },
      "outputs": [],
      "source": [
        "np.sum(a) #suma"
      ]
    },
    {
      "cell_type": "code",
      "execution_count": null,
      "metadata": {
        "id": "7ia02T03pJht"
      },
      "outputs": [],
      "source": [
        "np.cumsum(a)  # suma acumulativa"
      ]
    },
    {
      "cell_type": "code",
      "execution_count": null,
      "metadata": {
        "id": "VObJwfTLpJht"
      },
      "outputs": [],
      "source": [
        "np.mean(a) #media"
      ]
    },
    {
      "cell_type": "code",
      "execution_count": null,
      "metadata": {
        "id": "QBMVOxA6pJht"
      },
      "outputs": [],
      "source": [
        "a.argmax() # devuelve el índice del valor máximo"
      ]
    },
    {
      "cell_type": "markdown",
      "metadata": {
        "id": "uKM_StI7pJht"
      },
      "source": [
        "Las funciones Numpy normalmente aceptan un argumento de eje (_axis_) cuando el array tiene más de una dimensión"
      ]
    },
    {
      "cell_type": "code",
      "execution_count": null,
      "metadata": {
        "id": "_mi8aTMLpJht"
      },
      "outputs": [],
      "source": [
        "a = a.reshape(2,5)\n",
        "a"
      ]
    },
    {
      "cell_type": "code",
      "execution_count": null,
      "metadata": {
        "id": "eo3d1wSTpJht"
      },
      "outputs": [],
      "source": [
        "a.sum(axis=0) # row wise"
      ]
    },
    {
      "cell_type": "code",
      "execution_count": null,
      "metadata": {
        "id": "oT7RHqRmpJhv"
      },
      "outputs": [],
      "source": [
        "a.sum(1) # column wise"
      ]
    },
    {
      "cell_type": "markdown",
      "metadata": {
        "id": "cXIIa9HCpJhv"
      },
      "source": [
        "## Aritmética de arrays\n",
        "\n",
        "Numpy permite hacer aritmética básica si los arrays tienen la misma forma"
      ]
    },
    {
      "cell_type": "code",
      "execution_count": 25,
      "metadata": {
        "id": "LahG5txqpJhv",
        "colab": {
          "base_uri": "https://localhost:8080/"
        },
        "outputId": "4664acba-8aea-4113-daa2-b97cd730651e"
      },
      "outputs": [
        {
          "output_type": "execute_result",
          "data": {
            "text/plain": [
              "array([0, 1, 2, 3, 4, 5, 6, 7, 8, 9])"
            ]
          },
          "metadata": {},
          "execution_count": 25
        }
      ],
      "source": [
        "a = np.arange(10)\n",
        "a"
      ]
    },
    {
      "cell_type": "code",
      "execution_count": 27,
      "metadata": {
        "id": "GzLBSUp_pJhv",
        "colab": {
          "base_uri": "https://localhost:8080/"
        },
        "outputId": "83ee5904-665b-4e3a-c6e3-6653bc91681d"
      },
      "outputs": [
        {
          "output_type": "execute_result",
          "data": {
            "text/plain": [
              "array([9, 8, 7, 6, 5, 4, 3, 2, 1, 0])"
            ]
          },
          "metadata": {},
          "execution_count": 27
        }
      ],
      "source": [
        "b = a[::-1]  # ¡Cuidado con la definición de nuevas matrices a partir de segmentos!\n",
        "b"
      ]
    },
    {
      "cell_type": "code",
      "execution_count": 21,
      "metadata": {
        "id": "MrMgY9dypJhw",
        "colab": {
          "base_uri": "https://localhost:8080/"
        },
        "outputId": "4696925d-9272-464c-88a5-c53e6b691800"
      },
      "outputs": [
        {
          "output_type": "execute_result",
          "data": {
            "text/plain": [
              "True"
            ]
          },
          "metadata": {},
          "execution_count": 21
        }
      ],
      "source": [
        "np.may_share_memory(a, b)  # Si b es una vista de a -> True"
      ]
    },
    {
      "cell_type": "markdown",
      "metadata": {
        "id": "_KZoP029pJhw"
      },
      "source": [
        "Revisa [view vs copy](https://scipy-cookbook.readthedocs.io/items/ViewsVsCopies.html)\n"
      ]
    },
    {
      "cell_type": "code",
      "execution_count": 22,
      "metadata": {
        "id": "tIQapvG9pJhw",
        "colab": {
          "base_uri": "https://localhost:8080/"
        },
        "outputId": "fe82a2cd-c7dc-45eb-feea-c85ab69ef4ed"
      },
      "outputs": [
        {
          "output_type": "execute_result",
          "data": {
            "text/plain": [
              "array([9, 9, 9, 9, 9, 9, 9, 9, 9, 9])"
            ]
          },
          "metadata": {},
          "execution_count": 22
        }
      ],
      "source": [
        "a + b"
      ]
    },
    {
      "cell_type": "code",
      "execution_count": 23,
      "metadata": {
        "id": "ZsGtPo5bpJhw",
        "colab": {
          "base_uri": "https://localhost:8080/"
        },
        "outputId": "ce8ab35a-9984-486a-a069-5743035a3469"
      },
      "outputs": [
        {
          "output_type": "execute_result",
          "data": {
            "text/plain": [
              "array([-9, -7, -5, -3, -1,  1,  3,  5,  7,  9])"
            ]
          },
          "metadata": {},
          "execution_count": 23
        }
      ],
      "source": [
        "a - b"
      ]
    },
    {
      "cell_type": "markdown",
      "metadata": {
        "id": "2Q2Jz_L5pJhw"
      },
      "source": [
        "## Slicing `ndarray`\n",
        "\n",
        "`ndarrays` utiliza un método de corte similar a las listas o tuplas de Python simple:\n",
        "\n",
        "    [start:stop:stride]\n",
        "\n",
        "Dado que los arrays pueden tener un número arbitrario de dimensiones, el slicing de cada eje está separado por comas:\n",
        "\n",
        "    [axis 0, axis 1, ...axis n]"
      ]
    },
    {
      "cell_type": "code",
      "execution_count": null,
      "metadata": {
        "id": "ppnRAV5spJhw"
      },
      "outputs": [],
      "source": [
        "arr = np.arange(9).reshape(3,3)\n",
        "arr"
      ]
    },
    {
      "cell_type": "code",
      "execution_count": null,
      "metadata": {
        "scrolled": true,
        "id": "mdKBZ78upJhw"
      },
      "outputs": [],
      "source": [
        "arr[0]  # 1º fila"
      ]
    },
    {
      "cell_type": "code",
      "execution_count": null,
      "metadata": {
        "id": "LMuI9QR7pJhx"
      },
      "outputs": [],
      "source": [
        "arr[:,0] # todas las filas, columna 0"
      ]
    },
    {
      "cell_type": "code",
      "execution_count": null,
      "metadata": {
        "id": "X36gS-vopJhx"
      },
      "outputs": [],
      "source": [
        "arr[0,0]"
      ]
    },
    {
      "cell_type": "code",
      "execution_count": null,
      "metadata": {
        "id": "vRZxU5y6pJhx"
      },
      "outputs": [],
      "source": [
        "arr[::-1]  # filas invertidas"
      ]
    },
    {
      "cell_type": "code",
      "execution_count": null,
      "metadata": {
        "scrolled": true,
        "id": "TaICSxeipJhx"
      },
      "outputs": [],
      "source": [
        "arr[::-1, ::-1]  # columnas invertidas"
      ]
    },
    {
      "cell_type": "code",
      "execution_count": null,
      "metadata": {
        "id": "C-MRhRN7pJhx"
      },
      "outputs": [],
      "source": [
        "arr[::2, ::2]"
      ]
    },
    {
      "cell_type": "markdown",
      "metadata": {
        "id": "eDsKQLGwpJhy"
      },
      "source": [
        "### Se puede modificar la forma de los `nparrays` \n",
        "\n",
        "\n"
      ]
    },
    {
      "cell_type": "code",
      "execution_count": 28,
      "metadata": {
        "id": "C6vfQANzpJhy",
        "colab": {
          "base_uri": "https://localhost:8080/"
        },
        "outputId": "5b732223-788b-42ea-eb41-c2518cad4883"
      },
      "outputs": [
        {
          "output_type": "execute_result",
          "data": {
            "text/plain": [
              "array([[ 0,  1,  2,  3,  4],\n",
              "       [ 5,  6,  7,  8,  9],\n",
              "       [10, 11, 12, 13, 14]])"
            ]
          },
          "metadata": {},
          "execution_count": 28
        }
      ],
      "source": [
        "arr = np.arange(15).reshape(3,5)\n",
        "arr"
      ]
    },
    {
      "cell_type": "code",
      "execution_count": 29,
      "metadata": {
        "id": "jC0JExM3pJhy",
        "colab": {
          "base_uri": "https://localhost:8080/"
        },
        "outputId": "8eeed2bb-fd04-4eba-f1f7-03c57804a52c"
      },
      "outputs": [
        {
          "output_type": "execute_result",
          "data": {
            "text/plain": [
              "array([[ 0,  5, 10],\n",
              "       [ 1,  6, 11],\n",
              "       [ 2,  7, 12],\n",
              "       [ 3,  8, 13],\n",
              "       [ 4,  9, 14]])"
            ]
          },
          "metadata": {},
          "execution_count": 29
        }
      ],
      "source": [
        "arr.T #traspuesta"
      ]
    },
    {
      "cell_type": "code",
      "execution_count": 30,
      "metadata": {
        "id": "qJKLEqVQpJhy",
        "colab": {
          "base_uri": "https://localhost:8080/"
        },
        "outputId": "a99000bd-9cbf-4c89-89d7-ffbc117b9d88"
      },
      "outputs": [
        {
          "output_type": "execute_result",
          "data": {
            "text/plain": [
              "array([ 0,  1,  2,  3,  4,  5,  6,  7,  8,  9, 10, 11, 12, 13, 14])"
            ]
          },
          "metadata": {},
          "execution_count": 30
        }
      ],
      "source": [
        "arr.ravel()"
      ]
    },
    {
      "cell_type": "markdown",
      "metadata": {
        "id": "EFFEgaIKpJhy"
      },
      "source": [
        "Numpy ofrece una gran cantidad de **[rutinas de manipulación de arrays](https://docs.scipy.org/doc/numpy/reference/routines.array-manipulation.html)**"
      ]
    },
    {
      "cell_type": "markdown",
      "metadata": {
        "id": "osShsUb8pJhz"
      },
      "source": [
        "## Indexado\n",
        "\n",
        "La indexación numpy es bastante sencilla. Ya hemos usado el operador `[idx]`\n",
        " "
      ]
    },
    {
      "cell_type": "code",
      "execution_count": 34,
      "metadata": {
        "id": "U2l4e5y_pJhz",
        "colab": {
          "base_uri": "https://localhost:8080/"
        },
        "outputId": "2cc6df1a-76b0-4ee7-89f3-13a8381d6e99"
      },
      "outputs": [
        {
          "output_type": "execute_result",
          "data": {
            "text/plain": [
              "16"
            ]
          },
          "metadata": {},
          "execution_count": 34
        }
      ],
      "source": [
        "arr = np.arange(10) ** 2\n",
        "arr[4]"
      ]
    },
    {
      "cell_type": "markdown",
      "metadata": {
        "id": "qqCvFZ4_pJhz"
      },
      "source": [
        "Pero numpy también admite formas más complejas de acceder a los elementos por su índice.\n",
        "\n",
        "### Indexación booleana\n",
        "\n",
        "La indexación booleana utiliza un array de elementos booleanos para recuperar los elementos del array que coinciden con un `True`"
      ]
    },
    {
      "cell_type": "code",
      "execution_count": null,
      "metadata": {
        "id": "JuhBZdoVpJhz"
      },
      "outputs": [],
      "source": [
        "arr % 2 == 0"
      ]
    },
    {
      "cell_type": "code",
      "execution_count": 32,
      "metadata": {
        "id": "TEYUInc3pJhz",
        "colab": {
          "base_uri": "https://localhost:8080/"
        },
        "outputId": "da4deee1-325b-4f39-9275-0ab963afb710"
      },
      "outputs": [
        {
          "output_type": "execute_result",
          "data": {
            "text/plain": [
              "array([ 0,  2,  4,  6,  8, 10, 12, 14])"
            ]
          },
          "metadata": {},
          "execution_count": 32
        }
      ],
      "source": [
        "arr[arr % 2 == 0]  # tener en cuenta que ambos arrays deben tener la misma longitud"
      ]
    },
    {
      "cell_type": "markdown",
      "metadata": {
        "id": "Bs11cBpTpJhz"
      },
      "source": [
        "### Fancy indexing (Indexación sofisticada)\n",
        "\n",
        "Los arrays Numpy también se pueden indexar mediante arrays de enteros. Se comportan como si fueran arrays de indexes."
      ]
    },
    {
      "cell_type": "code",
      "source": [
        "arr"
      ],
      "metadata": {
        "colab": {
          "base_uri": "https://localhost:8080/"
        },
        "id": "wpC6MzV6LNc7",
        "outputId": "e29642e8-8b5b-4adb-b116-a611632a960e"
      },
      "execution_count": 36,
      "outputs": [
        {
          "output_type": "execute_result",
          "data": {
            "text/plain": [
              "array([ 0,  1,  4,  9, 16, 25, 36, 49, 64, 81])"
            ]
          },
          "metadata": {},
          "execution_count": 36
        }
      ]
    },
    {
      "cell_type": "code",
      "execution_count": 37,
      "metadata": {
        "id": "CfkHwUqTpJhz",
        "colab": {
          "base_uri": "https://localhost:8080/"
        },
        "outputId": "97a03306-2203-42ab-ea8f-6f9475e2085c"
      },
      "outputs": [
        {
          "output_type": "execute_result",
          "data": {
            "text/plain": [
              "(array([0, 3, 6, 9]),)"
            ]
          },
          "metadata": {},
          "execution_count": 37
        }
      ],
      "source": [
        "np.where(arr % 3 == 0)"
      ]
    },
    {
      "cell_type": "code",
      "execution_count": 38,
      "metadata": {
        "id": "niZ20cxopJhz",
        "colab": {
          "base_uri": "https://localhost:8080/"
        },
        "outputId": "d2189b9b-820d-420e-ebb1-980a7cd8841d"
      },
      "outputs": [
        {
          "output_type": "execute_result",
          "data": {
            "text/plain": [
              "array([ 0,  9, 36, 81])"
            ]
          },
          "metadata": {},
          "execution_count": 38
        }
      ],
      "source": [
        "arr[np.where(arr % 3 == 0)]"
      ]
    },
    {
      "cell_type": "markdown",
      "metadata": {
        "id": "fKSPHo_gpJh0"
      },
      "source": [
        "## Iterando sobre arrays\n",
        "\n",
        "No es la mejor idea usar un bucle `for` sobre un array numpy. Pero si eres perezoso para vectorizar tu algoritmo...\n",
        "\n",
        "o para llenar arrays vacíos con datos:"
      ]
    },
    {
      "cell_type": "code",
      "execution_count": 39,
      "metadata": {
        "id": "rlJj0oy1pJh0",
        "colab": {
          "base_uri": "https://localhost:8080/"
        },
        "outputId": "9cae6232-cf3d-46e2-f8d6-463a51b30484"
      },
      "outputs": [
        {
          "output_type": "stream",
          "name": "stdout",
          "text": [
            "[0 1 2 3]\n",
            "[4 5 6 7]\n",
            "[ 8  9 10 11]\n"
          ]
        }
      ],
      "source": [
        "arr = np.arange(12).reshape(3,4)  # define un 3x4 array\n",
        "\n",
        "for row in arr:\n",
        "    print(row)"
      ]
    },
    {
      "cell_type": "code",
      "execution_count": 40,
      "metadata": {
        "id": "aU3PZ0OVpJh0",
        "colab": {
          "base_uri": "https://localhost:8080/"
        },
        "outputId": "d12f2122-fa45-4a98-f65f-6d0d176bc4fd"
      },
      "outputs": [
        {
          "output_type": "stream",
          "name": "stdout",
          "text": [
            "0\n",
            "1\n",
            "2\n",
            "3\n",
            "4\n",
            "5\n",
            "6\n",
            "7\n",
            "8\n",
            "9\n",
            "10\n",
            "11\n"
          ]
        }
      ],
      "source": [
        "for e in arr.flat:\n",
        "    print(e)"
      ]
    },
    {
      "cell_type": "code",
      "execution_count": 41,
      "metadata": {
        "id": "34xf24RJpJh0",
        "colab": {
          "base_uri": "https://localhost:8080/"
        },
        "outputId": "57b5f00f-6845-4146-cc50-66576497d2fa"
      },
      "outputs": [
        {
          "output_type": "stream",
          "name": "stdout",
          "text": [
            "[3.14159265 1.57079633 1.04719755 0.78539816 0.62831853 0.52359878\n",
            " 0.44879895 0.39269908 0.34906585 0.31415927]\n"
          ]
        }
      ],
      "source": [
        "a = np.empty(10)\n",
        "\n",
        "for i in range(len(a)):\n",
        "    a[i] = np.pi/(i+1)\n",
        "\n",
        "print(a)"
      ]
    },
    {
      "cell_type": "markdown",
      "metadata": {
        "id": "milgTMQDpJh0"
      },
      "source": [
        "## Números aleatorios y muestreo\n",
        "\n",
        "### Generadores de números pseudoaleatorios\n",
        "\n",
        "Muestra de distribución uniforme con `rand`"
      ]
    },
    {
      "cell_type": "code",
      "execution_count": null,
      "metadata": {
        "id": "knJdBXCBpJh0"
      },
      "outputs": [],
      "source": [
        "np.random.rand(5)"
      ]
    },
    {
      "cell_type": "markdown",
      "metadata": {
        "id": "Rpf4sewFpJh0"
      },
      "source": [
        "Muestra de la distribución normal estándar con `randn` o `standard_normal`. Usa `normal` para especificar los parámetros"
      ]
    },
    {
      "cell_type": "code",
      "execution_count": null,
      "metadata": {
        "id": "YXXyxElIpJh1"
      },
      "outputs": [],
      "source": [
        "np.random.standard_normal(4)"
      ]
    },
    {
      "cell_type": "markdown",
      "metadata": {
        "id": "oPiWMirupJh1"
      },
      "source": [
        "Enteros aleatorios con `randint`"
      ]
    },
    {
      "cell_type": "code",
      "execution_count": null,
      "metadata": {
        "id": "aCVWY085pJh1"
      },
      "outputs": [],
      "source": [
        "np.random.randint(low=-5, high=5, size=(3,3))"
      ]
    },
    {
      "cell_type": "markdown",
      "metadata": {
        "id": "tMSKjpYypJh1"
      },
      "source": [
        "### Muestreo\n",
        "\n"
      ]
    },
    {
      "cell_type": "code",
      "execution_count": null,
      "metadata": {
        "id": "vml8Y90jpJh1"
      },
      "outputs": [],
      "source": [
        "a = np.arange(10)\n",
        "np.random.choice(a, 3)"
      ]
    },
    {
      "cell_type": "markdown",
      "metadata": {
        "id": "5V0wbWG2pJh1"
      },
      "source": [
        "## Producto escalar (punto) en Python puro vs Numpy \n",
        "\n",
        "El producto escalar de dos vectores **a** = [a1, a2, ..., an] y **b** = [b1, b2, ..., bn] se define como:\n",
        "$$ \\mathbf{a} \\cdot \\mathbf {b} =\\sum _{i=1}^{n}a_{i}b_{i}=a_{1}b_{1}+a_{2}b_{2}+\\cdots +a_{n}b_{n} $$"
      ]
    },
    {
      "cell_type": "code",
      "execution_count": 42,
      "metadata": {
        "id": "xN3t9qY6pJh1"
      },
      "outputs": [],
      "source": [
        "# definimos vectores [0,1,2...n]\n",
        "n = 100000\n",
        "\n",
        "# vectores como listas\n",
        "vec1 = list(range(n))\n",
        "vec2 = list(range(n))\n",
        "\n",
        "# vectores como arrays de numpy\n",
        "arr1 = np.arange(n, dtype='int32')\n",
        "arr2 = np.arange(n, dtype='int32')\n",
        "\n",
        "assert arr1.tolist() == vec1\n",
        "assert arr2.tolist() == vec2"
      ]
    },
    {
      "cell_type": "code",
      "execution_count": 43,
      "metadata": {
        "id": "z10E8GitpJh2"
      },
      "outputs": [],
      "source": [
        "# Implementación con Python puro\n",
        "def dot_product(v1, v2):\n",
        "    \n",
        "    assert len(v1) == len(v2)\n",
        "    result = 0\n",
        "    for i in  range(len(v1)):\n",
        "        result += v1[i] * v2[i]\n",
        "        \n",
        "    return result"
      ]
    },
    {
      "cell_type": "code",
      "execution_count": 44,
      "metadata": {
        "id": "mNE04Zq2pJh2",
        "colab": {
          "base_uri": "https://localhost:8080/"
        },
        "outputId": "25915baa-13f9-4fbe-a33c-ddc1d6a717cb"
      },
      "outputs": [
        {
          "output_type": "execute_result",
          "data": {
            "text/plain": [
              "False"
            ]
          },
          "metadata": {},
          "execution_count": 44
        }
      ],
      "source": [
        "dot_product(vec1, vec2) == np.dot(arr1, arr2)"
      ]
    },
    {
      "cell_type": "markdown",
      "metadata": {
        "id": "YYm-sqRXpJh2"
      },
      "source": [
        "!Nos da que no es lo mismo! ¿Qué pasa?"
      ]
    },
    {
      "cell_type": "code",
      "execution_count": 45,
      "metadata": {
        "id": "pUVd2HRspJh2",
        "colab": {
          "base_uri": "https://localhost:8080/"
        },
        "outputId": "ef0df9f7-ddfd-4fb7-d17d-dba3958d3c28"
      },
      "outputs": [
        {
          "output_type": "execute_result",
          "data": {
            "text/plain": [
              "False"
            ]
          },
          "metadata": {},
          "execution_count": 45
        }
      ],
      "source": [
        "dot_product(vec1, vec2) == np.dot(arr1, arr2)"
      ]
    },
    {
      "cell_type": "markdown",
      "source": [
        "Sin embargo, el producto escalar está implementado correctamente. ¿Por qué da resultados diferentes?"
      ],
      "metadata": {
        "id": "A__snOWzM-EC"
      }
    },
    {
      "cell_type": "code",
      "execution_count": 46,
      "metadata": {
        "id": "NALUm9EcpJh3",
        "colab": {
          "base_uri": "https://localhost:8080/"
        },
        "outputId": "51bfea43-a84e-4945-d60c-22fec822bb07"
      },
      "outputs": [
        {
          "output_type": "execute_result",
          "data": {
            "text/plain": [
              "333328333350000"
            ]
          },
          "metadata": {},
          "execution_count": 46
        }
      ],
      "source": [
        "python_result = dot_product(vec1, vec2)\n",
        "python_result"
      ]
    },
    {
      "cell_type": "code",
      "execution_count": 47,
      "metadata": {
        "id": "5HvdWdPwpJh3",
        "colab": {
          "base_uri": "https://localhost:8080/"
        },
        "outputId": "b0a7aca0-f303-44b1-be99-e8f79476774e"
      },
      "outputs": [
        {
          "output_type": "execute_result",
          "data": {
            "text/plain": [
              "216474736"
            ]
          },
          "metadata": {},
          "execution_count": 47
        }
      ],
      "source": [
        "numpy_result = np.dot(arr1, arr2)\n",
        "numpy_result"
      ]
    },
    {
      "cell_type": "markdown",
      "metadata": {
        "id": "TLeqMZtDpJh3"
      },
      "source": [
        "El problema es que los elementos de `arr1` y `arr2` son [`int32`, enteros de 32 bits](https://docs.scipy.org/doc/numpy/user/basics.types.html)!"
      ]
    },
    {
      "cell_type": "code",
      "execution_count": 48,
      "metadata": {
        "id": "cQ0LFSYMpJh3",
        "colab": {
          "base_uri": "https://localhost:8080/"
        },
        "outputId": "7058e8cd-7325-4318-c9b8-a1b08ed3d4a6"
      },
      "outputs": [
        {
          "output_type": "execute_result",
          "data": {
            "text/plain": [
              "dtype('int32')"
            ]
          },
          "metadata": {},
          "execution_count": 48
        }
      ],
      "source": [
        "arr1.dtype"
      ]
    },
    {
      "cell_type": "code",
      "execution_count": 49,
      "metadata": {
        "scrolled": true,
        "id": "wFjAmAI5pJh3",
        "colab": {
          "base_uri": "https://localhost:8080/"
        },
        "outputId": "2eb26fa5-e58e-43b0-9cc2-87882f87b318"
      },
      "outputs": [
        {
          "output_type": "stream",
          "name": "stdout",
          "text": [
            "min machine limit for int32: -2.1475e+09\n",
            "max machine limit for int32: 2.1475e+09\n"
          ]
        }
      ],
      "source": [
        "print('min machine limit for int32: {:.4e}'.format(np.iinfo(np.int32).min))\n",
        "print('max machine limit for int32: {:.4e}'.format(np.iinfo(np.int32).max))"
      ]
    },
    {
      "cell_type": "code",
      "execution_count": 51,
      "metadata": {
        "id": "q0T0h_iKpJh3",
        "colab": {
          "base_uri": "https://localhost:8080/"
        },
        "outputId": "999dddc1-5c9b-41c4-81f0-1f71a4931da1"
      },
      "outputs": [
        {
          "output_type": "stream",
          "name": "stdout",
          "text": [
            "min machine limit for int64: -9.2234e+18\n",
            "max machine limit for int64: 9.2234e+18\n"
          ]
        }
      ],
      "source": [
        "int64_min = float(np.iinfo(np.int64).min)\n",
        "int64_max = float(np.iinfo(np.int64).max)\n",
        "\n",
        "print('min machine limit for int64: {:.4e}'.format(int64_min, 20))\n",
        "print('max machine limit for int64: {:.4e}'.format(int64_max, 1))"
      ]
    },
    {
      "cell_type": "markdown",
      "metadata": {
        "id": "olbLs1MqpJh3"
      },
      "source": [
        "Recuerde que las rutinas numpy están tipeadas, por lo que tenemos que cambiar el dtype de nuestros arrays numpy para evitar el desbordamiento (overflow)."
      ]
    },
    {
      "cell_type": "code",
      "execution_count": 52,
      "metadata": {
        "id": "FGtKsUbzpJh3",
        "colab": {
          "base_uri": "https://localhost:8080/"
        },
        "outputId": "467bcfb4-84e6-4e7d-bc50-c8b1ef400089"
      },
      "outputs": [
        {
          "output_type": "execute_result",
          "data": {
            "text/plain": [
              "True"
            ]
          },
          "metadata": {},
          "execution_count": 52
        }
      ],
      "source": [
        "arr1 = np.arange(n, dtype=np.int64)\n",
        "arr2 = np.arange(n, dtype=np.int64)\n",
        "\n",
        "dot_product(vec1, vec2) == np.dot(arr1, arr2)"
      ]
    },
    {
      "cell_type": "code",
      "execution_count": 55,
      "metadata": {
        "id": "vTVqK9zfpJh4",
        "colab": {
          "base_uri": "https://localhost:8080/"
        },
        "outputId": "ccb91703-6e9b-4680-cf7f-cfd7ea812649"
      },
      "outputs": [
        {
          "output_type": "stream",
          "name": "stdout",
          "text": [
            "18 ms ± 5.38 ms per loop (mean ± std. dev. of 7 runs, 100 loops each)\n"
          ]
        }
      ],
      "source": [
        "%timeit dot_product(vec1, vec2)"
      ]
    },
    {
      "cell_type": "code",
      "execution_count": 56,
      "metadata": {
        "id": "s8D1v0gPpJh4",
        "colab": {
          "base_uri": "https://localhost:8080/"
        },
        "outputId": "9ff9257b-a2bf-4afc-c163-78aebb0bbf82"
      },
      "outputs": [
        {
          "output_type": "stream",
          "name": "stdout",
          "text": [
            "126 µs ± 31.1 µs per loop (mean ± std. dev. of 7 runs, 10000 loops each)\n"
          ]
        }
      ],
      "source": [
        "%timeit np.dot(arr1, arr2)"
      ]
    },
    {
      "cell_type": "markdown",
      "metadata": {
        "id": "enwosgNFpJh4"
      },
      "source": [
        "El desbordamiento puede causar problemas realmente grandes:\n",
        "> Un **desbordamiento aritmético** no controlado en el software de dirección del motor fue la **causa principal del accidente del vuelo inaugural de 1996 del cohete Ariane 5**. El software se había considerado libre de errores ya que se había utilizado en muchos vuelos anteriores, pero estos usaban cohetes más pequeños que generaban una aceleración más baja que el Ariane 5.\n",
        "\n",
        "[Fuente](https://en.wikipedia.org/wiki/Integer_overflow#cite_note-24)"
      ]
    },
    {
      "cell_type": "code",
      "execution_count": null,
      "metadata": {
        "id": "EpZTPqGGpJh4"
      },
      "outputs": [],
      "source": [
        "np.matmul(arr1, arr2)"
      ]
    },
    {
      "cell_type": "markdown",
      "metadata": {
        "id": "zI33QjdtpJh4"
      },
      "source": [
        "## Broadcasting\n",
        "\n",
        "Broadcasting es la terminología de Numpy para realizar operaciones matemáticas entre arrays con diferentes formas.\n",
        "El array más pequeño se \"transmite\" a través del array más grande para que tengan formas compatibles. Broadcasting proporciona un medio para vectorizar las operaciones de matriz para que el bucle se produzca en C en lugar de en Python. Lo hace sin hacer copias innecesarias de datos y, por lo general, conduce a implementaciones de algoritmos eficientes.\n",
        "\n",
        "<img src=\"https://i.stack.imgur.com/JcKv1.png\"  style=\"width: 700px;\"/>\n",
        "\n"
      ]
    },
    {
      "cell_type": "markdown",
      "metadata": {
        "id": "1QNa3JrlpJh4"
      },
      "source": [
        "**Sin** broadcasting:"
      ]
    },
    {
      "cell_type": "code",
      "execution_count": 57,
      "metadata": {
        "id": "GdeRl5cQpJh5",
        "colab": {
          "base_uri": "https://localhost:8080/"
        },
        "outputId": "c6d88586-76de-4783-c015-12de8d903702"
      },
      "outputs": [
        {
          "output_type": "execute_result",
          "data": {
            "text/plain": [
              "array([[ 0, 10, 20],\n",
              "       [ 0, 10, 20],\n",
              "       [ 0, 10, 20]])"
            ]
          },
          "metadata": {},
          "execution_count": 57
        }
      ],
      "source": [
        "a = np.tile([0,10,20], (3,1))\n",
        "a.shape\n",
        "a"
      ]
    },
    {
      "cell_type": "code",
      "execution_count": 58,
      "metadata": {
        "id": "WYtlLZkzpJh5",
        "colab": {
          "base_uri": "https://localhost:8080/"
        },
        "outputId": "d2d33230-fa56-4fc6-9b8e-844bd1049b9e"
      },
      "outputs": [
        {
          "output_type": "execute_result",
          "data": {
            "text/plain": [
              "array([[0, 0, 0],\n",
              "       [1, 1, 1],\n",
              "       [2, 2, 2]])"
            ]
          },
          "metadata": {},
          "execution_count": 58
        }
      ],
      "source": [
        "b = np.tile([0,1,2],(3,1)).T\n",
        "b.shape\n",
        "b"
      ]
    },
    {
      "cell_type": "code",
      "execution_count": 59,
      "metadata": {
        "id": "c0CQMxWmpJh5"
      },
      "outputs": [],
      "source": [
        "res1 = a + b"
      ]
    },
    {
      "cell_type": "code",
      "execution_count": 60,
      "metadata": {
        "id": "yd_EOYpgpJh5",
        "colab": {
          "base_uri": "https://localhost:8080/"
        },
        "outputId": "ce8f2c45-6170-4af6-a527-c12a1e90ddee"
      },
      "outputs": [
        {
          "output_type": "execute_result",
          "data": {
            "text/plain": [
              "array([[ 0, 10, 20],\n",
              "       [ 1, 11, 21],\n",
              "       [ 2, 12, 22]])"
            ]
          },
          "metadata": {},
          "execution_count": 60
        }
      ],
      "source": [
        "res1"
      ]
    },
    {
      "cell_type": "markdown",
      "metadata": {
        "id": "dy_CL6lxpJh5"
      },
      "source": [
        "**Broadcasting `b`**"
      ]
    },
    {
      "cell_type": "code",
      "execution_count": null,
      "metadata": {
        "id": "cStF6ofKpJh6"
      },
      "outputs": [],
      "source": [
        "b = np.array([0,1,2])[:, np.newaxis]\n",
        "b.shape"
      ]
    },
    {
      "cell_type": "code",
      "execution_count": 62,
      "metadata": {
        "id": "CCU-MFgkpJh6",
        "colab": {
          "base_uri": "https://localhost:8080/"
        },
        "outputId": "7e03e776-7699-404c-d296-d230e0d8f5e5"
      },
      "outputs": [
        {
          "output_type": "execute_result",
          "data": {
            "text/plain": [
              "array([[0],\n",
              "       [1],\n",
              "       [2]])"
            ]
          },
          "metadata": {},
          "execution_count": 62
        }
      ],
      "source": [
        "b"
      ]
    },
    {
      "cell_type": "code",
      "execution_count": 63,
      "metadata": {
        "id": "3viU4CM1pJh6"
      },
      "outputs": [],
      "source": [
        "res2 = a + b"
      ]
    },
    {
      "cell_type": "code",
      "execution_count": 64,
      "metadata": {
        "id": "6o-FaTn8pJh6",
        "colab": {
          "base_uri": "https://localhost:8080/"
        },
        "outputId": "16a4061d-bcfb-40d5-8af7-876d6b1f88cc"
      },
      "outputs": [
        {
          "output_type": "execute_result",
          "data": {
            "text/plain": [
              "array([[ 0, 10, 20],\n",
              "       [ 1, 11, 21],\n",
              "       [ 2, 12, 22]])"
            ]
          },
          "metadata": {},
          "execution_count": 64
        }
      ],
      "source": [
        "res2"
      ]
    },
    {
      "cell_type": "markdown",
      "metadata": {
        "id": "RMpQi7DLpJh6"
      },
      "source": [
        "**Broadcasting `a` and `b`**"
      ]
    },
    {
      "cell_type": "code",
      "execution_count": null,
      "metadata": {
        "id": "Q2_XxA8RpJh6"
      },
      "outputs": [],
      "source": [
        "a = np.array([0,10,20])\n",
        "a.shape"
      ]
    },
    {
      "cell_type": "code",
      "execution_count": null,
      "metadata": {
        "id": "FIDy1HXCpJh6"
      },
      "outputs": [],
      "source": [
        "a"
      ]
    },
    {
      "cell_type": "code",
      "execution_count": null,
      "metadata": {
        "id": "NsZI-FJhpJh6"
      },
      "outputs": [],
      "source": [
        "b.shape"
      ]
    },
    {
      "cell_type": "code",
      "execution_count": null,
      "metadata": {
        "id": "nqt7daDapJh6"
      },
      "outputs": [],
      "source": [
        "res3 = a + b"
      ]
    },
    {
      "cell_type": "code",
      "execution_count": null,
      "metadata": {
        "id": "Mxl-GU01pJh7"
      },
      "outputs": [],
      "source": [
        "assert np.array_equal(res1, res2) and np.array_equal(res2, res3)"
      ]
    },
    {
      "cell_type": "markdown",
      "metadata": {
        "id": "Vuk0fQ89pJh7"
      },
      "source": [
        "## Multiplicación de matrices\n",
        "\n",
        "<img src=\"https://upload.wikimedia.org/wikipedia/commons/thumb/e/eb/Matrix_multiplication_diagram_2.svg/313px-Matrix_multiplication_diagram_2.svg.png\" alt=\"Drawing\" style=\"width: 300px;\"/>\n"
      ]
    },
    {
      "cell_type": "markdown",
      "metadata": {
        "id": "82ICRApspJh7"
      },
      "source": [
        "Con broadcasting:"
      ]
    },
    {
      "cell_type": "code",
      "execution_count": 65,
      "metadata": {
        "id": "7RLECF7NpJh7"
      },
      "outputs": [],
      "source": [
        "arr1 = np.arange(5).reshape(5,1) # define como una matriz agregando el reshape (1 columna)"
      ]
    },
    {
      "cell_type": "code",
      "execution_count": 67,
      "metadata": {
        "id": "fGgiNFkXpJh7",
        "colab": {
          "base_uri": "https://localhost:8080/"
        },
        "outputId": "f7779529-4598-467f-bfc8-77a853b6d250"
      },
      "outputs": [
        {
          "output_type": "execute_result",
          "data": {
            "text/plain": [
              "array([[0],\n",
              "       [1],\n",
              "       [2],\n",
              "       [3],\n",
              "       [4]])"
            ]
          },
          "metadata": {},
          "execution_count": 67
        }
      ],
      "source": [
        "arr1"
      ]
    },
    {
      "cell_type": "code",
      "execution_count": 68,
      "metadata": {
        "id": "n1nkoG_7pJh7",
        "colab": {
          "base_uri": "https://localhost:8080/"
        },
        "outputId": "52371be5-64ef-4990-9eb4-67622b0d7e60"
      },
      "outputs": [
        {
          "output_type": "execute_result",
          "data": {
            "text/plain": [
              "array([[0, 1, 2, 3, 4]])"
            ]
          },
          "metadata": {},
          "execution_count": 68
        }
      ],
      "source": [
        "arr1.T  # observe los [ ] dobles. Esto funciona como una matriz"
      ]
    },
    {
      "cell_type": "code",
      "execution_count": 69,
      "metadata": {
        "id": "PhzNe8YjpJh7",
        "colab": {
          "base_uri": "https://localhost:8080/"
        },
        "outputId": "01e516cb-d508-456f-d59f-1649c3411acb"
      },
      "outputs": [
        {
          "output_type": "execute_result",
          "data": {
            "text/plain": [
              "array([[ 0,  0,  0,  0,  0],\n",
              "       [ 0,  1,  2,  3,  4],\n",
              "       [ 0,  2,  4,  6,  8],\n",
              "       [ 0,  3,  6,  9, 12],\n",
              "       [ 0,  4,  8, 12, 16]])"
            ]
          },
          "metadata": {},
          "execution_count": 69
        }
      ],
      "source": [
        "np.dot(arr1, arr1.T)"
      ]
    },
    {
      "cell_type": "code",
      "execution_count": 70,
      "metadata": {
        "id": "2nNAQsMipJh8",
        "colab": {
          "base_uri": "https://localhost:8080/"
        },
        "outputId": "4f6b9e1b-a855-4c3f-b50e-bb06f8e642f4"
      },
      "outputs": [
        {
          "output_type": "execute_result",
          "data": {
            "text/plain": [
              "array([[ 0,  0,  0,  0,  0],\n",
              "       [ 0,  1,  2,  3,  4],\n",
              "       [ 0,  2,  4,  6,  8],\n",
              "       [ 0,  3,  6,  9, 12],\n",
              "       [ 0,  4,  8, 12, 16]])"
            ]
          },
          "metadata": {},
          "execution_count": 70
        }
      ],
      "source": [
        "arr1 * arr1.T"
      ]
    },
    {
      "cell_type": "markdown",
      "metadata": {
        "id": "Fv3u0ToRpJh8"
      },
      "source": [
        "O normal:"
      ]
    },
    {
      "cell_type": "code",
      "execution_count": 71,
      "metadata": {
        "id": "SJpmtCUCpJh8",
        "colab": {
          "base_uri": "https://localhost:8080/"
        },
        "outputId": "ec288cf5-8fff-4ad9-8052-fd1730210f21"
      },
      "outputs": [
        {
          "output_type": "execute_result",
          "data": {
            "text/plain": [
              "array([[0, 1],\n",
              "       [2, 3],\n",
              "       [4, 5]])"
            ]
          },
          "metadata": {},
          "execution_count": 71
        }
      ],
      "source": [
        "a = np.arange(6).reshape(3,2)\n",
        "a"
      ]
    },
    {
      "cell_type": "code",
      "execution_count": 72,
      "metadata": {
        "id": "RFj1QIDxpJh8",
        "colab": {
          "base_uri": "https://localhost:8080/"
        },
        "outputId": "7b518900-0a66-4ae1-dbc8-d695bc3fa2fa"
      },
      "outputs": [
        {
          "output_type": "execute_result",
          "data": {
            "text/plain": [
              "array([[0, 1, 2],\n",
              "       [3, 4, 5]])"
            ]
          },
          "metadata": {},
          "execution_count": 72
        }
      ],
      "source": [
        "b = np.arange(6).reshape(2,3)\n",
        "b"
      ]
    },
    {
      "cell_type": "code",
      "execution_count": 73,
      "metadata": {
        "id": "tIQQGRFwpJh8",
        "colab": {
          "base_uri": "https://localhost:8080/"
        },
        "outputId": "0862ef48-64c5-4baf-f889-7712ca3d20f0"
      },
      "outputs": [
        {
          "output_type": "execute_result",
          "data": {
            "text/plain": [
              "array([[ 3,  4,  5],\n",
              "       [ 9, 14, 19],\n",
              "       [15, 24, 33]])"
            ]
          },
          "metadata": {},
          "execution_count": 73
        }
      ],
      "source": [
        "np.dot(a, b)"
      ]
    }
  ],
  "metadata": {
    "kernelspec": {
      "display_name": "Python 3",
      "language": "python",
      "name": "python3"
    },
    "language_info": {
      "codemirror_mode": {
        "name": "ipython",
        "version": 3
      },
      "file_extension": ".py",
      "mimetype": "text/x-python",
      "name": "python",
      "nbconvert_exporter": "python",
      "pygments_lexer": "ipython3",
      "version": "3.8.3"
    },
    "colab": {
      "provenance": [],
      "include_colab_link": true
    }
  },
  "nbformat": 4,
  "nbformat_minor": 0
}